{
 "cells": [
  {
   "cell_type": "code",
   "execution_count": 23,
   "id": "958cc591-9b05-4cd8-bffa-408bbc845122",
   "metadata": {
    "execution": {
     "iopub.execute_input": "2025-01-27T19:44:46.425952Z",
     "iopub.status.busy": "2025-01-27T19:44:46.425614Z",
     "iopub.status.idle": "2025-01-27T19:44:46.430956Z",
     "shell.execute_reply": "2025-01-27T19:44:46.429733Z",
     "shell.execute_reply.started": "2025-01-27T19:44:46.425921Z"
    }
   },
   "outputs": [],
   "source": [
    "import pandas as pd\n",
    "from sklearn.preprocessing import LabelEncoder, MinMaxScaler\n",
    "from sklearn.compose import ColumnTransformer\n",
    "from sklearn.pipeline import Pipeline\n",
    "from sklearn.impute import SimpleImputer\n",
    "from sklearn.impute import KNNImputer"
   ]
  },
  {
   "cell_type": "markdown",
   "id": "33983e63-ce01-44ba-b62a-6d7933a30d64",
   "metadata": {},
   "source": [
    "Transformacja danych"
   ]
  },
  {
   "cell_type": "code",
   "execution_count": 21,
   "id": "07a8b64e-f0cd-4885-b9ff-4c859c20208b",
   "metadata": {
    "execution": {
     "iopub.execute_input": "2025-01-27T19:43:38.872278Z",
     "iopub.status.busy": "2025-01-27T19:43:38.871683Z",
     "iopub.status.idle": "2025-01-27T19:43:39.151410Z",
     "shell.execute_reply": "2025-01-27T19:43:39.149986Z",
     "shell.execute_reply.started": "2025-01-27T19:43:38.872251Z"
    }
   },
   "outputs": [
    {
     "name": "stdout",
     "output_type": "stream",
     "text": [
      "             date  country  store  product  num_sold  weekday\n",
      "0      2010-01-01        0      0        0       NaN        4\n",
      "1      2010-01-01        0      0        1  0.163128        4\n",
      "2      2010-01-01        0      0        2  0.151837        4\n",
      "3      2010-01-01        0      0        3  0.070442        4\n",
      "4      2010-01-01        0      0        4  0.081901        4\n",
      "...           ...      ...    ...      ...       ...      ...\n",
      "230125 2016-12-31        5      1        0  0.077688        5\n",
      "230126 2016-12-31        5      1        1  0.489046        5\n",
      "230127 2016-12-31        5      1        2  0.386586        5\n",
      "230128 2016-12-31        5      1        3  0.208460        5\n",
      "230129 2016-12-31        5      1        4  0.272497        5\n",
      "\n",
      "[230130 rows x 6 columns]\n"
     ]
    }
   ],
   "source": [
    "df = pd.read_csv('train.csv', sep=',')\n",
    "\n",
    "\n",
    "# Krok 1: Usunięcie kolumny 'id'\n",
    "df.drop(columns=['id'], inplace=True)\n",
    "\n",
    "# Krok 2: Zmiana danych kategorycznych na liczbowe (Label Encoding)\n",
    "categorical_columns = ['country', 'store', 'product']  # Kategoryczne kolumny\n",
    "\n",
    "# Krok 3: Normalizacja numeryczna (Min-Max Scaling) dla num_sold\n",
    "scaler = MinMaxScaler()\n",
    "\n",
    "# Krok 4: Dodanie kolumny z dniem tygodnia (i konwersja na liczbę)\n",
    "df['date'] = pd.to_datetime(df['date'])\n",
    "df['weekday'] = df['date'].dt.weekday\n",
    "\n",
    "# Teraz zamienimy kategorie na liczby\n",
    "label_encoders = {}\n",
    "for col in categorical_columns:\n",
    "    le = LabelEncoder()\n",
    "    df[col] = le.fit_transform(df[col])\n",
    "    label_encoders[col] = le  # Zapamiętujemy encodery, żeby móc przekształcać później\n",
    "\n",
    "# Normalizowanie kolumny num_sold\n",
    "df['num_sold'] = scaler.fit_transform(df[['num_sold']])\n",
    "\n",
    "# Ostateczny wynik\n",
    "print(df)\n"
   ]
  },
  {
   "cell_type": "markdown",
   "id": "4e0ed59f-84bc-4c15-9e21-d7800a16bf52",
   "metadata": {},
   "source": [
    "uzupełnianie braków w num_sold"
   ]
  },
  {
   "cell_type": "code",
   "execution_count": 24,
   "id": "fc034100-1d92-4f10-bae3-38c885a2e6c7",
   "metadata": {
    "execution": {
     "iopub.execute_input": "2025-01-27T19:44:48.762288Z",
     "iopub.status.busy": "2025-01-27T19:44:48.761939Z",
     "iopub.status.idle": "2025-01-27T19:48:42.177596Z",
     "shell.execute_reply": "2025-01-27T19:48:42.176276Z",
     "shell.execute_reply.started": "2025-01-27T19:44:48.762257Z"
    }
   },
   "outputs": [
    {
     "data": {
      "text/html": [
       "<div>\n",
       "<style scoped>\n",
       "    .dataframe tbody tr th:only-of-type {\n",
       "        vertical-align: middle;\n",
       "    }\n",
       "\n",
       "    .dataframe tbody tr th {\n",
       "        vertical-align: top;\n",
       "    }\n",
       "\n",
       "    .dataframe thead th {\n",
       "        text-align: right;\n",
       "    }\n",
       "</style>\n",
       "<table border=\"1\" class=\"dataframe\">\n",
       "  <thead>\n",
       "    <tr style=\"text-align: right;\">\n",
       "      <th></th>\n",
       "      <th>date</th>\n",
       "      <th>country</th>\n",
       "      <th>store</th>\n",
       "      <th>product</th>\n",
       "      <th>num_sold</th>\n",
       "      <th>weekday</th>\n",
       "      <th>0</th>\n",
       "      <th>1</th>\n",
       "      <th>2</th>\n",
       "      <th>3</th>\n",
       "    </tr>\n",
       "  </thead>\n",
       "  <tbody>\n",
       "    <tr>\n",
       "      <th>0</th>\n",
       "      <td>2010-01-01</td>\n",
       "      <td>0</td>\n",
       "      <td>0</td>\n",
       "      <td>0</td>\n",
       "      <td>NaN</td>\n",
       "      <td>4</td>\n",
       "      <td>0.0</td>\n",
       "      <td>0.0</td>\n",
       "      <td>0.0</td>\n",
       "      <td>0.081699</td>\n",
       "    </tr>\n",
       "    <tr>\n",
       "      <th>1</th>\n",
       "      <td>2010-01-01</td>\n",
       "      <td>0</td>\n",
       "      <td>0</td>\n",
       "      <td>1</td>\n",
       "      <td>0.163128</td>\n",
       "      <td>4</td>\n",
       "      <td>0.0</td>\n",
       "      <td>0.0</td>\n",
       "      <td>1.0</td>\n",
       "      <td>0.163128</td>\n",
       "    </tr>\n",
       "    <tr>\n",
       "      <th>2</th>\n",
       "      <td>2010-01-01</td>\n",
       "      <td>0</td>\n",
       "      <td>0</td>\n",
       "      <td>2</td>\n",
       "      <td>0.151837</td>\n",
       "      <td>4</td>\n",
       "      <td>0.0</td>\n",
       "      <td>0.0</td>\n",
       "      <td>2.0</td>\n",
       "      <td>0.151837</td>\n",
       "    </tr>\n",
       "    <tr>\n",
       "      <th>3</th>\n",
       "      <td>2010-01-01</td>\n",
       "      <td>0</td>\n",
       "      <td>0</td>\n",
       "      <td>3</td>\n",
       "      <td>0.070442</td>\n",
       "      <td>4</td>\n",
       "      <td>0.0</td>\n",
       "      <td>0.0</td>\n",
       "      <td>3.0</td>\n",
       "      <td>0.070442</td>\n",
       "    </tr>\n",
       "    <tr>\n",
       "      <th>4</th>\n",
       "      <td>2010-01-01</td>\n",
       "      <td>0</td>\n",
       "      <td>0</td>\n",
       "      <td>4</td>\n",
       "      <td>0.081901</td>\n",
       "      <td>4</td>\n",
       "      <td>0.0</td>\n",
       "      <td>0.0</td>\n",
       "      <td>4.0</td>\n",
       "      <td>0.081901</td>\n",
       "    </tr>\n",
       "    <tr>\n",
       "      <th>...</th>\n",
       "      <td>...</td>\n",
       "      <td>...</td>\n",
       "      <td>...</td>\n",
       "      <td>...</td>\n",
       "      <td>...</td>\n",
       "      <td>...</td>\n",
       "      <td>...</td>\n",
       "      <td>...</td>\n",
       "      <td>...</td>\n",
       "      <td>...</td>\n",
       "    </tr>\n",
       "    <tr>\n",
       "      <th>230125</th>\n",
       "      <td>2016-12-31</td>\n",
       "      <td>5</td>\n",
       "      <td>1</td>\n",
       "      <td>0</td>\n",
       "      <td>0.077688</td>\n",
       "      <td>5</td>\n",
       "      <td>5.0</td>\n",
       "      <td>1.0</td>\n",
       "      <td>0.0</td>\n",
       "      <td>0.077688</td>\n",
       "    </tr>\n",
       "    <tr>\n",
       "      <th>230126</th>\n",
       "      <td>2016-12-31</td>\n",
       "      <td>5</td>\n",
       "      <td>1</td>\n",
       "      <td>1</td>\n",
       "      <td>0.489046</td>\n",
       "      <td>5</td>\n",
       "      <td>5.0</td>\n",
       "      <td>1.0</td>\n",
       "      <td>1.0</td>\n",
       "      <td>0.489046</td>\n",
       "    </tr>\n",
       "    <tr>\n",
       "      <th>230127</th>\n",
       "      <td>2016-12-31</td>\n",
       "      <td>5</td>\n",
       "      <td>1</td>\n",
       "      <td>2</td>\n",
       "      <td>0.386586</td>\n",
       "      <td>5</td>\n",
       "      <td>5.0</td>\n",
       "      <td>1.0</td>\n",
       "      <td>2.0</td>\n",
       "      <td>0.386586</td>\n",
       "    </tr>\n",
       "    <tr>\n",
       "      <th>230128</th>\n",
       "      <td>2016-12-31</td>\n",
       "      <td>5</td>\n",
       "      <td>1</td>\n",
       "      <td>3</td>\n",
       "      <td>0.208460</td>\n",
       "      <td>5</td>\n",
       "      <td>5.0</td>\n",
       "      <td>1.0</td>\n",
       "      <td>3.0</td>\n",
       "      <td>0.208460</td>\n",
       "    </tr>\n",
       "    <tr>\n",
       "      <th>230129</th>\n",
       "      <td>2016-12-31</td>\n",
       "      <td>5</td>\n",
       "      <td>1</td>\n",
       "      <td>4</td>\n",
       "      <td>0.272497</td>\n",
       "      <td>5</td>\n",
       "      <td>5.0</td>\n",
       "      <td>1.0</td>\n",
       "      <td>4.0</td>\n",
       "      <td>0.272497</td>\n",
       "    </tr>\n",
       "  </tbody>\n",
       "</table>\n",
       "<p>230130 rows × 10 columns</p>\n",
       "</div>"
      ],
      "text/plain": [
       "             date  country  store  product  num_sold  weekday    0    1    2  \\\n",
       "0      2010-01-01        0      0        0       NaN        4  0.0  0.0  0.0   \n",
       "1      2010-01-01        0      0        1  0.163128        4  0.0  0.0  1.0   \n",
       "2      2010-01-01        0      0        2  0.151837        4  0.0  0.0  2.0   \n",
       "3      2010-01-01        0      0        3  0.070442        4  0.0  0.0  3.0   \n",
       "4      2010-01-01        0      0        4  0.081901        4  0.0  0.0  4.0   \n",
       "...           ...      ...    ...      ...       ...      ...  ...  ...  ...   \n",
       "230125 2016-12-31        5      1        0  0.077688        5  5.0  1.0  0.0   \n",
       "230126 2016-12-31        5      1        1  0.489046        5  5.0  1.0  1.0   \n",
       "230127 2016-12-31        5      1        2  0.386586        5  5.0  1.0  2.0   \n",
       "230128 2016-12-31        5      1        3  0.208460        5  5.0  1.0  3.0   \n",
       "230129 2016-12-31        5      1        4  0.272497        5  5.0  1.0  4.0   \n",
       "\n",
       "               3  \n",
       "0       0.081699  \n",
       "1       0.163128  \n",
       "2       0.151837  \n",
       "3       0.070442  \n",
       "4       0.081901  \n",
       "...          ...  \n",
       "230125  0.077688  \n",
       "230126  0.489046  \n",
       "230127  0.386586  \n",
       "230128  0.208460  \n",
       "230129  0.272497  \n",
       "\n",
       "[230130 rows x 10 columns]"
      ]
     },
     "execution_count": 24,
     "metadata": {},
     "output_type": "execute_result"
    }
   ],
   "source": [
    "imputer = KNNImputer(n_neighbors=5)  # Możesz dostosować liczbę sąsiadów\n",
    "df_imputed = pd.DataFrame(imputer.fit_transform(df.select_dtypes(include=['float64', 'int64'])))\n",
    "df[df_imputed.columns] = df_imputed  # Uzupełnianie brakujących danych\n",
    "df"
   ]
  },
  {
   "cell_type": "code",
   "execution_count": 31,
   "id": "46f2e08b-e377-485b-b14e-da832f84faa2",
   "metadata": {
    "execution": {
     "iopub.execute_input": "2025-01-27T19:53:19.089496Z",
     "iopub.status.busy": "2025-01-27T19:53:19.088528Z",
     "iopub.status.idle": "2025-01-27T19:53:19.703852Z",
     "shell.execute_reply": "2025-01-27T19:53:19.702746Z",
     "shell.execute_reply.started": "2025-01-27T19:53:19.089455Z"
    }
   },
   "outputs": [],
   "source": [
    "df_filtered = df[[\"date\", \"country\", \"store\", \"product\", \"weekday\", 3]]  \n",
    "\n",
    "# Zmieniamy nazwę kolumny 3 na 'num_sold'\n",
    "df_filtered = df_filtered.rename(columns={3: \"num_sold\"})\n",
    "df_filtered\n",
    "df_filtered.to_csv('train_transform.csv', index=False)"
   ]
  },
  {
   "cell_type": "code",
   "execution_count": 28,
   "id": "fd06fa48-622e-459b-bbfe-ebbc4f60fdcc",
   "metadata": {
    "execution": {
     "iopub.execute_input": "2025-01-27T19:52:03.833842Z",
     "iopub.status.busy": "2025-01-27T19:52:03.833496Z",
     "iopub.status.idle": "2025-01-27T19:52:03.842462Z",
     "shell.execute_reply": "2025-01-27T19:52:03.840874Z",
     "shell.execute_reply.started": "2025-01-27T19:52:03.833812Z"
    }
   },
   "outputs": [
    {
     "name": "stdout",
     "output_type": "stream",
     "text": [
      "Index(['date', 'country', 'store', 'product', 'num_sold', 'weekday', 0, 1, 2,\n",
      "       3],\n",
      "      dtype='object')\n"
     ]
    }
   ],
   "source": [
    "print(df.columns)"
   ]
  }
 ],
 "metadata": {
  "kernelspec": {
   "display_name": "Python 3 (ipykernel)",
   "language": "python",
   "name": "python3"
  },
  "language_info": {
   "codemirror_mode": {
    "name": "ipython",
    "version": 3
   },
   "file_extension": ".py",
   "mimetype": "text/x-python",
   "name": "python",
   "nbconvert_exporter": "python",
   "pygments_lexer": "ipython3",
   "version": "3.10.12"
  }
 },
 "nbformat": 4,
 "nbformat_minor": 5
}
